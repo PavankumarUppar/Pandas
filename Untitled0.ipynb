{
  "nbformat": 4,
  "nbformat_minor": 0,
  "metadata": {
    "colab": {
      "name": "Untitled0.ipynb",
      "provenance": [],
      "collapsed_sections": [],
      "authorship_tag": "ABX9TyNY4S8oDzK8P69D8DCuxXPO",
      "include_colab_link": true
    },
    "kernelspec": {
      "name": "python3",
      "display_name": "Python 3"
    },
    "language_info": {
      "name": "python"
    }
  },
  "cells": [
    {
      "cell_type": "markdown",
      "metadata": {
        "id": "view-in-github",
        "colab_type": "text"
      },
      "source": [
        "<a href=\"https://colab.research.google.com/github/PavankumarUppar/Pandas/blob/main/Untitled0.ipynb\" target=\"_parent\"><img src=\"https://colab.research.google.com/assets/colab-badge.svg\" alt=\"Open In Colab\"/></a>"
      ]
    },
    {
      "cell_type": "code",
      "execution_count": null,
      "metadata": {
        "id": "ktrjiEfacnNw",
        "colab": {
          "base_uri": "https://localhost:8080/"
        },
        "outputId": "aeb093e5-f024-425e-f4fd-a88046cbbd93"
      },
      "outputs": [
        {
          "output_type": "stream",
          "name": "stdout",
          "text": [
            "aA B C A B CbA B C A B Cc\n"
          ]
        }
      ],
      "source": [
        "str1 = \"a b c\"\n",
        "str2 = \"A B C\"\n",
        "str3 = str2.join(str1)\n",
        "print(str3)"
      ]
    },
    {
      "cell_type": "code",
      "source": [
        "\"a\" in str1"
      ],
      "metadata": {
        "colab": {
          "base_uri": "https://localhost:8080/"
        },
        "id": "t2zpPh4mU4KZ",
        "outputId": "1b26859d-f15d-4aac-9eb7-9ddb562acad3"
      },
      "execution_count": null,
      "outputs": [
        {
          "output_type": "execute_result",
          "data": {
            "text/plain": [
              "True"
            ]
          },
          "metadata": {},
          "execution_count": 2
        }
      ]
    },
    {
      "cell_type": "code",
      "source": [
        "Days = {\"Monday\", \"Tuesday\", \"Wednesday\", \"Thursday\", \"Friday\", \"Saturday\",\"Sunday\"}\n",
        "print(Days)\n",
        "print(type(Days))\n",
        "print(\"looping through the set elements ... \")\n",
        "i=0\n",
        "for i in Days:\n",
        "  print(i)\n"
      ],
      "metadata": {
        "colab": {
          "base_uri": "https://localhost:8080/"
        },
        "id": "Hl3NfxP2WZJN",
        "outputId": "890fdb7e-6c01-437b-97a2-96e186147cc4"
      },
      "execution_count": null,
      "outputs": [
        {
          "output_type": "stream",
          "name": "stdout",
          "text": [
            "{'Friday', 'Monday', 'Wednesday', 'Sunday', 'Saturday', 'Thursday', 'Tuesday'}\n",
            "<class 'set'>\n",
            "looping through the set elements ... \n",
            "Friday\n",
            "Monday\n",
            "Wednesday\n",
            "Sunday\n",
            "Saturday\n",
            "Thursday\n",
            "Tuesday\n"
          ]
        }
      ]
    },
    {
      "cell_type": "code",
      "source": [
        "i = 1\n",
        "while i < 6:\n",
        "  print(i)\n",
        "  i += 1\n"
      ],
      "metadata": {
        "colab": {
          "base_uri": "https://localhost:8080/"
        },
        "id": "p9ni6hMhiCIe",
        "outputId": "60137f15-84a3-4608-fdcb-277d3a777359"
      },
      "execution_count": null,
      "outputs": [
        {
          "output_type": "stream",
          "name": "stdout",
          "text": [
            "1\n",
            "2\n",
            "3\n",
            "4\n",
            "5\n"
          ]
        }
      ]
    },
    {
      "cell_type": "code",
      "source": [
        "def factorial(n):\n",
        "  if(n==1):\n",
        "    return 1\n",
        "  else:\n",
        "    return n*factorial(n-1)\n",
        "num = 5\n",
        "factorial(num)"
      ],
      "metadata": {
        "id": "s-SyKXPNiF4G",
        "colab": {
          "base_uri": "https://localhost:8080/"
        },
        "outputId": "5df57397-af2f-4cb9-b78e-56ba9cbb4ded"
      },
      "execution_count": null,
      "outputs": [
        {
          "output_type": "execute_result",
          "data": {
            "text/plain": [
              "120"
            ]
          },
          "metadata": {},
          "execution_count": 2
        }
      ]
    },
    {
      "cell_type": "code",
      "source": [
        "#3rd\n",
        "fname = open('/content/text.txt','r')\n",
        "file = fname.read()\n",
        "ans = []\n",
        "words = file.split()\n",
        "for word in words:\n",
        "    if word not in ans:\n",
        "        ans.append(word)\n",
        "\n",
        "ans.sort()\n",
        "print(ans)"
      ],
      "metadata": {
        "id": "WWN_okuWOwur",
        "colab": {
          "base_uri": "https://localhost:8080/"
        },
        "outputId": "c3a24567-6301-4b46-ae6b-03593e909b10"
      },
      "execution_count": null,
      "outputs": [
        {
          "output_type": "stream",
          "name": "stdout",
          "text": [
            "['planets', 'sattelite', 'stars']\n"
          ]
        }
      ]
    },
    {
      "cell_type": "code",
      "source": [
        "#5th\n",
        "def sortl(lst):\n",
        "  lst.sort(key=len)\n",
        "  return lst\n",
        "\n",
        "lst = ['planets','star','stars']\n",
        "print(sortl(lst))"
      ],
      "metadata": {
        "colab": {
          "base_uri": "https://localhost:8080/"
        },
        "id": "mpozUQBZfFiJ",
        "outputId": "b20638b5-2c26-4cca-ff4f-41217f58ea56"
      },
      "execution_count": null,
      "outputs": [
        {
          "output_type": "stream",
          "name": "stdout",
          "text": [
            "['star', 'stars', 'planets']\n"
          ]
        }
      ]
    },
    {
      "cell_type": "code",
      "source": [
        "#6th\n",
        "def leng(lst,n):\n",
        "  lst.sort(key=len)\n",
        "  return lst[n]\n",
        "\n",
        "lst = ['planets','star','stars']\n",
        "print(leng(lst,2))"
      ],
      "metadata": {
        "colab": {
          "base_uri": "https://localhost:8080/"
        },
        "id": "4WRL0quxgKFE",
        "outputId": "fd7b14d1-f613-4205-d1fc-d11e22b0f5db"
      },
      "execution_count": null,
      "outputs": [
        {
          "output_type": "stream",
          "name": "stdout",
          "text": [
            "planets\n"
          ]
        }
      ]
    },
    {
      "cell_type": "code",
      "source": [
        "#10th \n",
        "n = int(input(\"Enter the number: \"))\n",
        "a = []\n",
        "while (n>0):\n",
        "  d = n%2 \n",
        "  a.append(d)\n",
        "  n = n//2\n",
        "\n",
        "a.reverse()\n",
        "for i in a:\n",
        "  print(\" \",i)\n"
      ],
      "metadata": {
        "colab": {
          "base_uri": "https://localhost:8080/"
        },
        "id": "jrvPnppng6IA",
        "outputId": "3eb76228-9c3b-441e-d005-e8eb5dafd5ac"
      },
      "execution_count": null,
      "outputs": [
        {
          "output_type": "stream",
          "name": "stdout",
          "text": [
            "Enter the number: 7\n",
            "  1\n",
            "  1\n",
            "  1\n"
          ]
        }
      ]
    },
    {
      "cell_type": "code",
      "source": [
        "#11.th\n",
        "fname = open('/content/text.txt','r')\n",
        "for i in fname:\n",
        "  output = i.title()\n",
        "  print(output)"
      ],
      "metadata": {
        "colab": {
          "base_uri": "https://localhost:8080/"
        },
        "id": "hV_5dU3KjiWE",
        "outputId": "4375f33f-f7aa-4f63-eeb6-22046dc17fdf"
      },
      "execution_count": null,
      "outputs": [
        {
          "output_type": "stream",
          "name": "stdout",
          "text": [
            "Stars Planets Sattelite\n"
          ]
        }
      ]
    },
    {
      "cell_type": "code",
      "source": [
        "#12\n",
        "st = input(\"Enter a string: \")\n",
        "dic = {}\n",
        "for i in st:\n",
        "  dic[i] = st.count(i)\n",
        "\n",
        "print(dic)"
      ],
      "metadata": {
        "colab": {
          "base_uri": "https://localhost:8080/"
        },
        "id": "23jOcfVrkcal",
        "outputId": "2f994f80-4779-4543-b3ab-5ecb922c8711"
      },
      "execution_count": null,
      "outputs": [
        {
          "output_type": "stream",
          "name": "stdout",
          "text": [
            "Enter a string: BMSCE\n",
            "{'B': 1, 'M': 1, 'S': 1, 'C': 1, 'E': 1}\n"
          ]
        }
      ]
    },
    {
      "cell_type": "code",
      "source": [
        ""
      ],
      "metadata": {
        "id": "mvaPpEy9lEPn"
      },
      "execution_count": null,
      "outputs": []
    }
  ]
}